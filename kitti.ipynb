{
 "cells": [
  {
   "cell_type": "code",
   "execution_count": 4,
   "metadata": {},
   "outputs": [
    {
     "name": "stdout",
     "output_type": "stream",
     "text": [
      "Plot saved as 'class_distribution.html'.\n"
     ]
    }
   ],
   "source": [
    "import os\n",
    "import plotly.graph_objects as go\n",
    "from collections import Counter\n",
    "\n",
    "def read_and_count_classes(directory):\n",
    "    class_counts = Counter()\n",
    "    # Loop through all files in the directory\n",
    "    for filename in os.listdir(directory):\n",
    "        if filename.endswith(\".txt\"):\n",
    "            file_path = os.path.join(directory, filename)\n",
    "            with open(file_path, 'r') as file:\n",
    "                for line in file:\n",
    "                    parts = line.strip().split()\n",
    "                    if len(parts) > 2:\n",
    "                        class_type = parts[2]\n",
    "                        class_counts[class_type] += 1\n",
    "    return class_counts\n",
    "\n",
    "def plot_class_distribution(class_counts):\n",
    "    classes = list(class_counts.keys())\n",
    "    counts = list(class_counts.values())\n",
    "    fig = go.Figure(data=[go.Bar(x=classes, y=counts)])\n",
    "    fig.update_layout(title='Class Distribution in Dataset',\n",
    "                      xaxis_title='Class',\n",
    "                      yaxis_title='Count',\n",
    "                      template='plotly_white')\n",
    "    # Save the figure as an HTML file\n",
    "    fig.write_html('class_distribution.html')\n",
    "    print(\"Plot saved as 'class_distribution.html'.\")\n",
    "\n",
    "\n",
    "# Set the path to your directory\n",
    "directory = '/media/juma/code/MOT/LiteSORT/TrackEval/data/gt/kitti/kitti_2d_box_train/label_02'\n",
    "class_counts = read_and_count_classes(directory)\n",
    "plot_class_distribution(class_counts)\n"
   ]
  },
  {
   "cell_type": "code",
   "execution_count": 5,
   "metadata": {},
   "outputs": [
    {
     "data": {
      "text/plain": [
       "Counter({'Car': 27300,\n",
       "         'DontCare': 18039,\n",
       "         'Pedestrian': 11470,\n",
       "         'Van': 3301,\n",
       "         'Cyclist': 1938,\n",
       "         'Truck': 1189,\n",
       "         'Misc': 793,\n",
       "         'Person': 676,\n",
       "         'Tram': 595})"
      ]
     },
     "execution_count": 5,
     "metadata": {},
     "output_type": "execute_result"
    }
   ],
   "source": [
    "class_counts"
   ]
  },
  {
   "cell_type": "code",
   "execution_count": null,
   "metadata": {},
   "outputs": [],
   "source": []
  }
 ],
 "metadata": {
  "kernelspec": {
   "display_name": "myenv",
   "language": "python",
   "name": "python3"
  },
  "language_info": {
   "codemirror_mode": {
    "name": "ipython",
    "version": 3
   },
   "file_extension": ".py",
   "mimetype": "text/x-python",
   "name": "python",
   "nbconvert_exporter": "python",
   "pygments_lexer": "ipython3",
   "version": "3.10.14"
  }
 },
 "nbformat": 4,
 "nbformat_minor": 2
}
